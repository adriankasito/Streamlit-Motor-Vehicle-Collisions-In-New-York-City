{
 "cells": [
  {
   "cell_type": "code",
   "execution_count": 4,
   "metadata": {},
   "outputs": [],
   "source": [
    "import streamlit as st\n",
    "import pandas as pd\n",
    "import numpy as np\n",
    "import pydeck as pdk\n",
    "import plotly.express as px\n"
   ]
  },
  {
   "cell_type": "code",
   "execution_count": 5,
   "metadata": {},
   "outputs": [],
   "source": [
    "DATE_TIME = \"ACCIDENT DATE_ACCIDENT TIME\"\n",
    "DATA_URL = (r\"nypd.csv\")"
   ]
  },
  {
   "cell_type": "code",
   "execution_count": 10,
   "metadata": {},
   "outputs": [
    {
     "ename": "ParserError",
     "evalue": "Error tokenizing data. C error: Expected 1 fields in line 12, saw 2\n",
     "output_type": "error",
     "traceback": [
      "\u001b[0;31m---------------------------------------------------------------------------\u001b[0m",
      "\u001b[0;31mParserError\u001b[0m                               Traceback (most recent call last)",
      "Cell \u001b[0;32mIn[10], line 4\u001b[0m\n\u001b[1;32m      1\u001b[0m \u001b[39mimport\u001b[39;00m \u001b[39mpandas\u001b[39;00m \u001b[39mas\u001b[39;00m \u001b[39mpd\u001b[39;00m\n\u001b[1;32m      3\u001b[0m \u001b[39m# Read the CSV file with 'latin1' encoding\u001b[39;00m\n\u001b[0;32m----> 4\u001b[0m da \u001b[39m=\u001b[39m pd\u001b[39m.\u001b[39;49mread_csv(\u001b[39m'\u001b[39;49m\u001b[39mnyc.csv\u001b[39;49m\u001b[39m'\u001b[39;49m, encoding\u001b[39m=\u001b[39;49m\u001b[39m'\u001b[39;49m\u001b[39mlatin1\u001b[39;49m\u001b[39m'\u001b[39;49m)\n\u001b[1;32m      6\u001b[0m \u001b[39m# Check the columns\u001b[39;00m\n\u001b[1;32m      7\u001b[0m da\u001b[39m.\u001b[39mcolumns\n",
      "File \u001b[0;32m/opt/homebrew/lib/python3.11/site-packages/pandas/io/parsers/readers.py:948\u001b[0m, in \u001b[0;36mread_csv\u001b[0;34m(filepath_or_buffer, sep, delimiter, header, names, index_col, usecols, dtype, engine, converters, true_values, false_values, skipinitialspace, skiprows, skipfooter, nrows, na_values, keep_default_na, na_filter, verbose, skip_blank_lines, parse_dates, infer_datetime_format, keep_date_col, date_parser, date_format, dayfirst, cache_dates, iterator, chunksize, compression, thousands, decimal, lineterminator, quotechar, quoting, doublequote, escapechar, comment, encoding, encoding_errors, dialect, on_bad_lines, delim_whitespace, low_memory, memory_map, float_precision, storage_options, dtype_backend)\u001b[0m\n\u001b[1;32m    935\u001b[0m kwds_defaults \u001b[39m=\u001b[39m _refine_defaults_read(\n\u001b[1;32m    936\u001b[0m     dialect,\n\u001b[1;32m    937\u001b[0m     delimiter,\n\u001b[0;32m   (...)\u001b[0m\n\u001b[1;32m    944\u001b[0m     dtype_backend\u001b[39m=\u001b[39mdtype_backend,\n\u001b[1;32m    945\u001b[0m )\n\u001b[1;32m    946\u001b[0m kwds\u001b[39m.\u001b[39mupdate(kwds_defaults)\n\u001b[0;32m--> 948\u001b[0m \u001b[39mreturn\u001b[39;00m _read(filepath_or_buffer, kwds)\n",
      "File \u001b[0;32m/opt/homebrew/lib/python3.11/site-packages/pandas/io/parsers/readers.py:617\u001b[0m, in \u001b[0;36m_read\u001b[0;34m(filepath_or_buffer, kwds)\u001b[0m\n\u001b[1;32m    614\u001b[0m     \u001b[39mreturn\u001b[39;00m parser\n\u001b[1;32m    616\u001b[0m \u001b[39mwith\u001b[39;00m parser:\n\u001b[0;32m--> 617\u001b[0m     \u001b[39mreturn\u001b[39;00m parser\u001b[39m.\u001b[39;49mread(nrows)\n",
      "File \u001b[0;32m/opt/homebrew/lib/python3.11/site-packages/pandas/io/parsers/readers.py:1748\u001b[0m, in \u001b[0;36mTextFileReader.read\u001b[0;34m(self, nrows)\u001b[0m\n\u001b[1;32m   1741\u001b[0m nrows \u001b[39m=\u001b[39m validate_integer(\u001b[39m\"\u001b[39m\u001b[39mnrows\u001b[39m\u001b[39m\"\u001b[39m, nrows)\n\u001b[1;32m   1742\u001b[0m \u001b[39mtry\u001b[39;00m:\n\u001b[1;32m   1743\u001b[0m     \u001b[39m# error: \"ParserBase\" has no attribute \"read\"\u001b[39;00m\n\u001b[1;32m   1744\u001b[0m     (\n\u001b[1;32m   1745\u001b[0m         index,\n\u001b[1;32m   1746\u001b[0m         columns,\n\u001b[1;32m   1747\u001b[0m         col_dict,\n\u001b[0;32m-> 1748\u001b[0m     ) \u001b[39m=\u001b[39m \u001b[39mself\u001b[39;49m\u001b[39m.\u001b[39;49m_engine\u001b[39m.\u001b[39;49mread(  \u001b[39m# type: ignore[attr-defined]\u001b[39;49;00m\n\u001b[1;32m   1749\u001b[0m         nrows\n\u001b[1;32m   1750\u001b[0m     )\n\u001b[1;32m   1751\u001b[0m \u001b[39mexcept\u001b[39;00m \u001b[39mException\u001b[39;00m:\n\u001b[1;32m   1752\u001b[0m     \u001b[39mself\u001b[39m\u001b[39m.\u001b[39mclose()\n",
      "File \u001b[0;32m/opt/homebrew/lib/python3.11/site-packages/pandas/io/parsers/c_parser_wrapper.py:234\u001b[0m, in \u001b[0;36mCParserWrapper.read\u001b[0;34m(self, nrows)\u001b[0m\n\u001b[1;32m    232\u001b[0m \u001b[39mtry\u001b[39;00m:\n\u001b[1;32m    233\u001b[0m     \u001b[39mif\u001b[39;00m \u001b[39mself\u001b[39m\u001b[39m.\u001b[39mlow_memory:\n\u001b[0;32m--> 234\u001b[0m         chunks \u001b[39m=\u001b[39m \u001b[39mself\u001b[39;49m\u001b[39m.\u001b[39;49m_reader\u001b[39m.\u001b[39;49mread_low_memory(nrows)\n\u001b[1;32m    235\u001b[0m         \u001b[39m# destructive to chunks\u001b[39;00m\n\u001b[1;32m    236\u001b[0m         data \u001b[39m=\u001b[39m _concatenate_chunks(chunks)\n",
      "File \u001b[0;32mparsers.pyx:843\u001b[0m, in \u001b[0;36mpandas._libs.parsers.TextReader.read_low_memory\u001b[0;34m()\u001b[0m\n",
      "File \u001b[0;32mparsers.pyx:904\u001b[0m, in \u001b[0;36mpandas._libs.parsers.TextReader._read_rows\u001b[0;34m()\u001b[0m\n",
      "File \u001b[0;32mparsers.pyx:879\u001b[0m, in \u001b[0;36mpandas._libs.parsers.TextReader._tokenize_rows\u001b[0;34m()\u001b[0m\n",
      "File \u001b[0;32mparsers.pyx:890\u001b[0m, in \u001b[0;36mpandas._libs.parsers.TextReader._check_tokenize_status\u001b[0;34m()\u001b[0m\n",
      "File \u001b[0;32mparsers.pyx:2058\u001b[0m, in \u001b[0;36mpandas._libs.parsers.raise_parser_error\u001b[0;34m()\u001b[0m\n",
      "\u001b[0;31mParserError\u001b[0m: Error tokenizing data. C error: Expected 1 fields in line 12, saw 2\n"
     ]
    }
   ],
   "source": [
    "da = pd.read_csv('nyc.csv',encoding='latin1')\n",
    "da.columns"
   ]
  },
  {
   "cell_type": "code",
   "execution_count": null,
   "metadata": {},
   "outputs": [
    {
     "data": {
      "text/plain": [
       "(1612178, 29)"
      ]
     },
     "execution_count": 4,
     "metadata": {},
     "output_type": "execute_result"
    }
   ],
   "source": [
    "da.shape"
   ]
  },
  {
   "cell_type": "code",
   "execution_count": null,
   "metadata": {},
   "outputs": [
    {
     "data": {
      "text/html": [
       "<div>\n",
       "<style scoped>\n",
       "    .dataframe tbody tr th:only-of-type {\n",
       "        vertical-align: middle;\n",
       "    }\n",
       "\n",
       "    .dataframe tbody tr th {\n",
       "        vertical-align: top;\n",
       "    }\n",
       "\n",
       "    .dataframe thead th {\n",
       "        text-align: right;\n",
       "    }\n",
       "</style>\n",
       "<table border=\"1\" class=\"dataframe\">\n",
       "  <thead>\n",
       "    <tr style=\"text-align: right;\">\n",
       "      <th></th>\n",
       "      <th>ACCIDENT DATE</th>\n",
       "      <th>ACCIDENT TIME</th>\n",
       "      <th>BOROUGH</th>\n",
       "      <th>ZIP CODE</th>\n",
       "      <th>LATITUDE</th>\n",
       "      <th>LONGITUDE</th>\n",
       "      <th>LOCATION</th>\n",
       "      <th>ON STREET NAME</th>\n",
       "      <th>CROSS STREET NAME</th>\n",
       "      <th>OFF STREET NAME</th>\n",
       "      <th>...</th>\n",
       "      <th>CONTRIBUTING FACTOR VEHICLE 2</th>\n",
       "      <th>CONTRIBUTING FACTOR VEHICLE 3</th>\n",
       "      <th>CONTRIBUTING FACTOR VEHICLE 4</th>\n",
       "      <th>CONTRIBUTING FACTOR VEHICLE 5</th>\n",
       "      <th>COLLISION_ID</th>\n",
       "      <th>VEHICLE TYPE CODE 1</th>\n",
       "      <th>VEHICLE TYPE CODE 2</th>\n",
       "      <th>VEHICLE TYPE CODE 3</th>\n",
       "      <th>VEHICLE TYPE CODE 4</th>\n",
       "      <th>VEHICLE TYPE CODE 5</th>\n",
       "    </tr>\n",
       "  </thead>\n",
       "  <tbody>\n",
       "    <tr>\n",
       "      <th>0</th>\n",
       "      <td>2019-08-05T00:00:00.000</td>\n",
       "      <td>16:30</td>\n",
       "      <td>QUEENS</td>\n",
       "      <td>11434.0</td>\n",
       "      <td>40.676052</td>\n",
       "      <td>-73.790184</td>\n",
       "      <td>{'type': 'Point', 'coordinates': [-73.790184, ...</td>\n",
       "      <td>NaN</td>\n",
       "      <td>NaN</td>\n",
       "      <td>150-08    123 AVENUE</td>\n",
       "      <td>...</td>\n",
       "      <td>Unspecified</td>\n",
       "      <td>NaN</td>\n",
       "      <td>NaN</td>\n",
       "      <td>NaN</td>\n",
       "      <td>4184637</td>\n",
       "      <td>Sedan</td>\n",
       "      <td>Pick-up Truck</td>\n",
       "      <td>NaN</td>\n",
       "      <td>NaN</td>\n",
       "      <td>NaN</td>\n",
       "    </tr>\n",
       "    <tr>\n",
       "      <th>1</th>\n",
       "      <td>2019-08-27T00:00:00.000</td>\n",
       "      <td>16:02</td>\n",
       "      <td>BROOKLYN</td>\n",
       "      <td>11225.0</td>\n",
       "      <td>40.657780</td>\n",
       "      <td>-73.951096</td>\n",
       "      <td>{'type': 'Point', 'coordinates': [-73.951096, ...</td>\n",
       "      <td>NaN</td>\n",
       "      <td>NaN</td>\n",
       "      <td>288       HAWTHORNE STREET</td>\n",
       "      <td>...</td>\n",
       "      <td>Unspecified</td>\n",
       "      <td>NaN</td>\n",
       "      <td>NaN</td>\n",
       "      <td>NaN</td>\n",
       "      <td>4195773</td>\n",
       "      <td>Station Wagon/Sport Utility Vehicle</td>\n",
       "      <td>Station Wagon/Sport Utility Vehicle</td>\n",
       "      <td>NaN</td>\n",
       "      <td>NaN</td>\n",
       "      <td>NaN</td>\n",
       "    </tr>\n",
       "    <tr>\n",
       "      <th>2</th>\n",
       "      <td>2019-08-15T00:00:00.000</td>\n",
       "      <td>17:57</td>\n",
       "      <td>MANHATTAN</td>\n",
       "      <td>10002.0</td>\n",
       "      <td>40.718143</td>\n",
       "      <td>-73.993835</td>\n",
       "      <td>{'type': 'Point', 'coordinates': [-73.993835, ...</td>\n",
       "      <td>CHRYSTIE STREET</td>\n",
       "      <td>GRAND STREET</td>\n",
       "      <td>NaN</td>\n",
       "      <td>...</td>\n",
       "      <td>NaN</td>\n",
       "      <td>NaN</td>\n",
       "      <td>NaN</td>\n",
       "      <td>NaN</td>\n",
       "      <td>4202457</td>\n",
       "      <td>Sedan</td>\n",
       "      <td>NaN</td>\n",
       "      <td>NaN</td>\n",
       "      <td>NaN</td>\n",
       "      <td>NaN</td>\n",
       "    </tr>\n",
       "    <tr>\n",
       "      <th>3</th>\n",
       "      <td>2019-08-30T00:00:00.000</td>\n",
       "      <td>21:53</td>\n",
       "      <td>BRONX</td>\n",
       "      <td>10460.0</td>\n",
       "      <td>40.840534</td>\n",
       "      <td>-73.866610</td>\n",
       "      <td>{'type': 'Point', 'coordinates': [-73.86661, 4...</td>\n",
       "      <td>NaN</td>\n",
       "      <td>NaN</td>\n",
       "      <td>1837      EAST TREMONT AVENUE</td>\n",
       "      <td>...</td>\n",
       "      <td>Unspecified</td>\n",
       "      <td>NaN</td>\n",
       "      <td>NaN</td>\n",
       "      <td>NaN</td>\n",
       "      <td>4198749</td>\n",
       "      <td>Taxi</td>\n",
       "      <td>Station Wagon/Sport Utility Vehicle</td>\n",
       "      <td>NaN</td>\n",
       "      <td>NaN</td>\n",
       "      <td>NaN</td>\n",
       "    </tr>\n",
       "    <tr>\n",
       "      <th>4</th>\n",
       "      <td>2019-08-06T00:00:00.000</td>\n",
       "      <td>9:45</td>\n",
       "      <td>MANHATTAN</td>\n",
       "      <td>10016.0</td>\n",
       "      <td>40.745440</td>\n",
       "      <td>-73.975400</td>\n",
       "      <td>{'type': 'Point', 'coordinates': [-73.9754, 40...</td>\n",
       "      <td>EAST 35 STREET</td>\n",
       "      <td>2 AVENUE</td>\n",
       "      <td>NaN</td>\n",
       "      <td>...</td>\n",
       "      <td>Driver Inattention/Distraction</td>\n",
       "      <td>NaN</td>\n",
       "      <td>NaN</td>\n",
       "      <td>NaN</td>\n",
       "      <td>4183798</td>\n",
       "      <td>Station Wagon/Sport Utility Vehicle</td>\n",
       "      <td>Bike</td>\n",
       "      <td>NaN</td>\n",
       "      <td>NaN</td>\n",
       "      <td>NaN</td>\n",
       "    </tr>\n",
       "  </tbody>\n",
       "</table>\n",
       "<p>5 rows × 29 columns</p>\n",
       "</div>"
      ],
      "text/plain": [
       "             ACCIDENT DATE ACCIDENT TIME    BOROUGH ZIP CODE   LATITUDE  \\\n",
       "0  2019-08-05T00:00:00.000         16:30     QUEENS  11434.0  40.676052   \n",
       "1  2019-08-27T00:00:00.000         16:02   BROOKLYN  11225.0  40.657780   \n",
       "2  2019-08-15T00:00:00.000         17:57  MANHATTAN  10002.0  40.718143   \n",
       "3  2019-08-30T00:00:00.000         21:53      BRONX  10460.0  40.840534   \n",
       "4  2019-08-06T00:00:00.000          9:45  MANHATTAN  10016.0  40.745440   \n",
       "\n",
       "   LONGITUDE                                           LOCATION  \\\n",
       "0 -73.790184  {'type': 'Point', 'coordinates': [-73.790184, ...   \n",
       "1 -73.951096  {'type': 'Point', 'coordinates': [-73.951096, ...   \n",
       "2 -73.993835  {'type': 'Point', 'coordinates': [-73.993835, ...   \n",
       "3 -73.866610  {'type': 'Point', 'coordinates': [-73.86661, 4...   \n",
       "4 -73.975400  {'type': 'Point', 'coordinates': [-73.9754, 40...   \n",
       "\n",
       "                     ON STREET NAME CROSS STREET NAME  \\\n",
       "0                               NaN               NaN   \n",
       "1                               NaN               NaN   \n",
       "2  CHRYSTIE STREET                       GRAND STREET   \n",
       "3                               NaN               NaN   \n",
       "4  EAST 35 STREET                            2 AVENUE   \n",
       "\n",
       "                            OFF STREET NAME  ...  \\\n",
       "0  150-08    123 AVENUE                      ...   \n",
       "1  288       HAWTHORNE STREET                ...   \n",
       "2                                       NaN  ...   \n",
       "3  1837      EAST TREMONT AVENUE             ...   \n",
       "4                                       NaN  ...   \n",
       "\n",
       "    CONTRIBUTING FACTOR VEHICLE 2  CONTRIBUTING FACTOR VEHICLE 3  \\\n",
       "0                     Unspecified                            NaN   \n",
       "1                     Unspecified                            NaN   \n",
       "2                             NaN                            NaN   \n",
       "3                     Unspecified                            NaN   \n",
       "4  Driver Inattention/Distraction                            NaN   \n",
       "\n",
       "   CONTRIBUTING FACTOR VEHICLE 4  CONTRIBUTING FACTOR VEHICLE 5  COLLISION_ID  \\\n",
       "0                            NaN                            NaN       4184637   \n",
       "1                            NaN                            NaN       4195773   \n",
       "2                            NaN                            NaN       4202457   \n",
       "3                            NaN                            NaN       4198749   \n",
       "4                            NaN                            NaN       4183798   \n",
       "\n",
       "                   VEHICLE TYPE CODE 1                  VEHICLE TYPE CODE 2  \\\n",
       "0                                Sedan                        Pick-up Truck   \n",
       "1  Station Wagon/Sport Utility Vehicle  Station Wagon/Sport Utility Vehicle   \n",
       "2                                Sedan                                  NaN   \n",
       "3                                 Taxi  Station Wagon/Sport Utility Vehicle   \n",
       "4  Station Wagon/Sport Utility Vehicle                                 Bike   \n",
       "\n",
       "   VEHICLE TYPE CODE 3 VEHICLE TYPE CODE 4 VEHICLE TYPE CODE 5  \n",
       "0                  NaN                 NaN                 NaN  \n",
       "1                  NaN                 NaN                 NaN  \n",
       "2                  NaN                 NaN                 NaN  \n",
       "3                  NaN                 NaN                 NaN  \n",
       "4                  NaN                 NaN                 NaN  \n",
       "\n",
       "[5 rows x 29 columns]"
      ]
     },
     "execution_count": 5,
     "metadata": {},
     "output_type": "execute_result"
    }
   ],
   "source": [
    "da.head()"
   ]
  },
  {
   "cell_type": "code",
   "execution_count": null,
   "metadata": {},
   "outputs": [
    {
     "name": "stderr",
     "output_type": "stream",
     "text": [
      "2023-09-30 19:38:26.764 WARNING streamlit.runtime.caching.cache_data_api: No runtime found, using MemoryCacheStorageManager\n",
      "2023-09-30 19:38:26.834 \n",
      "  \u001b[33m\u001b[1mWarning:\u001b[0m to view this Streamlit app on a browser, run it with the following\n",
      "  command:\n",
      "\n",
      "    streamlit run /Users/baba/Library/Python/3.11/lib/python/site-packages/ipykernel_launcher.py [ARGUMENTS]\n",
      "2023-09-30 19:38:26.835 No runtime found, using MemoryCacheStorageManager\n",
      "/var/folders/g4/266dj37n1f7_4d9mw_50bmx80000gn/T/ipykernel_36371/3287075304.py:3: UserWarning: Could not infer format, so each element will be parsed individually, falling back to `dateutil`. To ensure parsing is consistent and as-expected, please specify a format.\n",
      "  data = pd.read_csv(DATA_URL, nrows=nrows, parse_dates=[['ACCIDENT DATE', 'ACCIDENT TIME']])\n"
     ]
    }
   ],
   "source": [
    "@st.cache_data(persist=True)\n",
    "def load_data(nrows):\n",
    "    data = pd.read_csv(DATA_URL, nrows=nrows, parse_dates=[['ACCIDENT DATE', 'ACCIDENT TIME']])\n",
    "    data.dropna(subset=['LATITUDE', 'LONGITUDE'], inplace=True)\n",
    "    lowercase = lambda x: str(x).lower()\n",
    "    data.rename(lowercase, axis=\"columns\", inplace=True)\n",
    "    data.rename(columns={\"number of persons injured\": \"number_of_persons_injured\"}, inplace=True)\n",
    "    data.rename(columns={\"number of pedestrians injured\": \"number_of_pedestrians_injured\"}, inplace=True)\n",
    "    data.rename(columns={\"number of cyclist injured\": \"number_of_cyclists_injured\"}, inplace=True)\n",
    "    data.rename(columns={\"number of motorist injured\": \"number_of_motorists_injured\"}, inplace=True)\n",
    "    data.rename(columns={\"on street name\": \"on_street_name\"}, inplace=True)\n",
    "    #data.rename(columns={\"crash_date_crash_time\": \"crash date/ crash time\"}, inplace=True)\n",
    "    #data = data[['date/time', 'latitude', 'longitude']]\n",
    "    return data\n",
    "\n",
    "data = load_data(2200)\n",
    "data[['latitude','longitude']].to_csv('lat_long.csv', index=False)"
   ]
  },
  {
   "cell_type": "code",
   "execution_count": null,
   "metadata": {},
   "outputs": [
    {
     "data": {
      "text/html": [
       "<div>\n",
       "<style scoped>\n",
       "    .dataframe tbody tr th:only-of-type {\n",
       "        vertical-align: middle;\n",
       "    }\n",
       "\n",
       "    .dataframe tbody tr th {\n",
       "        vertical-align: top;\n",
       "    }\n",
       "\n",
       "    .dataframe thead th {\n",
       "        text-align: right;\n",
       "    }\n",
       "</style>\n",
       "<table border=\"1\" class=\"dataframe\">\n",
       "  <thead>\n",
       "    <tr style=\"text-align: right;\">\n",
       "      <th></th>\n",
       "      <th>accident date_accident time</th>\n",
       "      <th>borough</th>\n",
       "      <th>zip code</th>\n",
       "      <th>latitude</th>\n",
       "      <th>longitude</th>\n",
       "      <th>location</th>\n",
       "      <th>on_street_name</th>\n",
       "      <th>cross street name</th>\n",
       "      <th>off street name</th>\n",
       "      <th>number_of_persons_injured</th>\n",
       "      <th>...</th>\n",
       "      <th>contributing factor vehicle 2</th>\n",
       "      <th>contributing factor vehicle 3</th>\n",
       "      <th>contributing factor vehicle 4</th>\n",
       "      <th>contributing factor vehicle 5</th>\n",
       "      <th>collision_id</th>\n",
       "      <th>vehicle type code 1</th>\n",
       "      <th>vehicle type code 2</th>\n",
       "      <th>vehicle type code 3</th>\n",
       "      <th>vehicle type code 4</th>\n",
       "      <th>vehicle type code 5</th>\n",
       "    </tr>\n",
       "  </thead>\n",
       "  <tbody>\n",
       "    <tr>\n",
       "      <th>0</th>\n",
       "      <td>2019-08-05 16:30:00</td>\n",
       "      <td>QUEENS</td>\n",
       "      <td>11434.0</td>\n",
       "      <td>40.676052</td>\n",
       "      <td>-73.790184</td>\n",
       "      <td>{'type': 'Point', 'coordinates': [-73.790184, ...</td>\n",
       "      <td>NaN</td>\n",
       "      <td>NaN</td>\n",
       "      <td>150-08    123 AVENUE</td>\n",
       "      <td>0</td>\n",
       "      <td>...</td>\n",
       "      <td>Unspecified</td>\n",
       "      <td>NaN</td>\n",
       "      <td>NaN</td>\n",
       "      <td>NaN</td>\n",
       "      <td>4184637</td>\n",
       "      <td>Sedan</td>\n",
       "      <td>Pick-up Truck</td>\n",
       "      <td>NaN</td>\n",
       "      <td>NaN</td>\n",
       "      <td>NaN</td>\n",
       "    </tr>\n",
       "    <tr>\n",
       "      <th>1</th>\n",
       "      <td>2019-08-27 16:02:00</td>\n",
       "      <td>BROOKLYN</td>\n",
       "      <td>11225.0</td>\n",
       "      <td>40.657780</td>\n",
       "      <td>-73.951096</td>\n",
       "      <td>{'type': 'Point', 'coordinates': [-73.951096, ...</td>\n",
       "      <td>NaN</td>\n",
       "      <td>NaN</td>\n",
       "      <td>288       HAWTHORNE STREET</td>\n",
       "      <td>0</td>\n",
       "      <td>...</td>\n",
       "      <td>Unspecified</td>\n",
       "      <td>NaN</td>\n",
       "      <td>NaN</td>\n",
       "      <td>NaN</td>\n",
       "      <td>4195773</td>\n",
       "      <td>Station Wagon/Sport Utility Vehicle</td>\n",
       "      <td>Station Wagon/Sport Utility Vehicle</td>\n",
       "      <td>NaN</td>\n",
       "      <td>NaN</td>\n",
       "      <td>NaN</td>\n",
       "    </tr>\n",
       "    <tr>\n",
       "      <th>2</th>\n",
       "      <td>2019-08-15 17:57:00</td>\n",
       "      <td>MANHATTAN</td>\n",
       "      <td>10002.0</td>\n",
       "      <td>40.718143</td>\n",
       "      <td>-73.993835</td>\n",
       "      <td>{'type': 'Point', 'coordinates': [-73.993835, ...</td>\n",
       "      <td>CHRYSTIE STREET</td>\n",
       "      <td>GRAND STREET</td>\n",
       "      <td>NaN</td>\n",
       "      <td>1</td>\n",
       "      <td>...</td>\n",
       "      <td>NaN</td>\n",
       "      <td>NaN</td>\n",
       "      <td>NaN</td>\n",
       "      <td>NaN</td>\n",
       "      <td>4202457</td>\n",
       "      <td>Sedan</td>\n",
       "      <td>NaN</td>\n",
       "      <td>NaN</td>\n",
       "      <td>NaN</td>\n",
       "      <td>NaN</td>\n",
       "    </tr>\n",
       "    <tr>\n",
       "      <th>3</th>\n",
       "      <td>2019-08-30 21:53:00</td>\n",
       "      <td>BRONX</td>\n",
       "      <td>10460.0</td>\n",
       "      <td>40.840534</td>\n",
       "      <td>-73.866610</td>\n",
       "      <td>{'type': 'Point', 'coordinates': [-73.86661, 4...</td>\n",
       "      <td>NaN</td>\n",
       "      <td>NaN</td>\n",
       "      <td>1837      EAST TREMONT AVENUE</td>\n",
       "      <td>0</td>\n",
       "      <td>...</td>\n",
       "      <td>Unspecified</td>\n",
       "      <td>NaN</td>\n",
       "      <td>NaN</td>\n",
       "      <td>NaN</td>\n",
       "      <td>4198749</td>\n",
       "      <td>Taxi</td>\n",
       "      <td>Station Wagon/Sport Utility Vehicle</td>\n",
       "      <td>NaN</td>\n",
       "      <td>NaN</td>\n",
       "      <td>NaN</td>\n",
       "    </tr>\n",
       "    <tr>\n",
       "      <th>4</th>\n",
       "      <td>2019-08-06 09:45:00</td>\n",
       "      <td>MANHATTAN</td>\n",
       "      <td>10016.0</td>\n",
       "      <td>40.745440</td>\n",
       "      <td>-73.975400</td>\n",
       "      <td>{'type': 'Point', 'coordinates': [-73.9754, 40...</td>\n",
       "      <td>EAST 35 STREET</td>\n",
       "      <td>2 AVENUE</td>\n",
       "      <td>NaN</td>\n",
       "      <td>1</td>\n",
       "      <td>...</td>\n",
       "      <td>Driver Inattention/Distraction</td>\n",
       "      <td>NaN</td>\n",
       "      <td>NaN</td>\n",
       "      <td>NaN</td>\n",
       "      <td>4183798</td>\n",
       "      <td>Station Wagon/Sport Utility Vehicle</td>\n",
       "      <td>Bike</td>\n",
       "      <td>NaN</td>\n",
       "      <td>NaN</td>\n",
       "      <td>NaN</td>\n",
       "    </tr>\n",
       "  </tbody>\n",
       "</table>\n",
       "<p>5 rows × 28 columns</p>\n",
       "</div>"
      ],
      "text/plain": [
       "  accident date_accident time    borough  zip code   latitude  longitude  \\\n",
       "0         2019-08-05 16:30:00     QUEENS   11434.0  40.676052 -73.790184   \n",
       "1         2019-08-27 16:02:00   BROOKLYN   11225.0  40.657780 -73.951096   \n",
       "2         2019-08-15 17:57:00  MANHATTAN   10002.0  40.718143 -73.993835   \n",
       "3         2019-08-30 21:53:00      BRONX   10460.0  40.840534 -73.866610   \n",
       "4         2019-08-06 09:45:00  MANHATTAN   10016.0  40.745440 -73.975400   \n",
       "\n",
       "                                            location  \\\n",
       "0  {'type': 'Point', 'coordinates': [-73.790184, ...   \n",
       "1  {'type': 'Point', 'coordinates': [-73.951096, ...   \n",
       "2  {'type': 'Point', 'coordinates': [-73.993835, ...   \n",
       "3  {'type': 'Point', 'coordinates': [-73.86661, 4...   \n",
       "4  {'type': 'Point', 'coordinates': [-73.9754, 40...   \n",
       "\n",
       "                     on_street_name cross street name  \\\n",
       "0                               NaN               NaN   \n",
       "1                               NaN               NaN   \n",
       "2  CHRYSTIE STREET                       GRAND STREET   \n",
       "3                               NaN               NaN   \n",
       "4  EAST 35 STREET                            2 AVENUE   \n",
       "\n",
       "                            off street name  number_of_persons_injured  ...  \\\n",
       "0  150-08    123 AVENUE                                              0  ...   \n",
       "1  288       HAWTHORNE STREET                                        0  ...   \n",
       "2                                       NaN                          1  ...   \n",
       "3  1837      EAST TREMONT AVENUE                                     0  ...   \n",
       "4                                       NaN                          1  ...   \n",
       "\n",
       "    contributing factor vehicle 2  contributing factor vehicle 3  \\\n",
       "0                     Unspecified                            NaN   \n",
       "1                     Unspecified                            NaN   \n",
       "2                             NaN                            NaN   \n",
       "3                     Unspecified                            NaN   \n",
       "4  Driver Inattention/Distraction                            NaN   \n",
       "\n",
       "   contributing factor vehicle 4  contributing factor vehicle 5  collision_id  \\\n",
       "0                            NaN                            NaN       4184637   \n",
       "1                            NaN                            NaN       4195773   \n",
       "2                            NaN                            NaN       4202457   \n",
       "3                            NaN                            NaN       4198749   \n",
       "4                            NaN                            NaN       4183798   \n",
       "\n",
       "                   vehicle type code 1                  vehicle type code 2  \\\n",
       "0                                Sedan                        Pick-up Truck   \n",
       "1  Station Wagon/Sport Utility Vehicle  Station Wagon/Sport Utility Vehicle   \n",
       "2                                Sedan                                  NaN   \n",
       "3                                 Taxi  Station Wagon/Sport Utility Vehicle   \n",
       "4  Station Wagon/Sport Utility Vehicle                                 Bike   \n",
       "\n",
       "  vehicle type code 3 vehicle type code 4 vehicle type code 5  \n",
       "0                 NaN                 NaN                 NaN  \n",
       "1                 NaN                 NaN                 NaN  \n",
       "2                 NaN                 NaN                 NaN  \n",
       "3                 NaN                 NaN                 NaN  \n",
       "4                 NaN                 NaN                 NaN  \n",
       "\n",
       "[5 rows x 28 columns]"
      ]
     },
     "execution_count": 7,
     "metadata": {},
     "output_type": "execute_result"
    }
   ],
   "source": [
    "data.head()"
   ]
  },
  {
   "cell_type": "code",
   "execution_count": null,
   "metadata": {},
   "outputs": [
    {
     "data": {
      "text/plain": [
       "Index(['accident date_accident time', 'borough', 'zip code', 'latitude',\n",
       "       'longitude', 'location', 'on_street_name', 'cross street name',\n",
       "       'off street name', 'number_of_persons_injured',\n",
       "       'number of persons killed', 'number_of_pedestrians_injured',\n",
       "       'number of pedestrians killed', 'number_of_cyclists_injured',\n",
       "       'number of cyclist killed', 'number_of_motorists_injured',\n",
       "       'number of motorist killed', 'contributing factor vehicle 1',\n",
       "       'contributing factor vehicle 2', 'contributing factor vehicle 3',\n",
       "       'contributing factor vehicle 4', 'contributing factor vehicle 5',\n",
       "       'collision_id', 'vehicle type code 1', 'vehicle type code 2',\n",
       "       'vehicle type code 3', 'vehicle type code 4', 'vehicle type code 5'],\n",
       "      dtype='object')"
      ]
     },
     "execution_count": 8,
     "metadata": {},
     "output_type": "execute_result"
    }
   ],
   "source": [
    "data.columns"
   ]
  },
  {
   "cell_type": "code",
   "execution_count": null,
   "metadata": {},
   "outputs": [
    {
     "name": "stderr",
     "output_type": "stream",
     "text": [
      "2023-09-30 19:38:27.196 Session state does not function when running a script without `streamlit run`\n"
     ]
    },
    {
     "data": {
      "text/plain": [
       "DeltaGenerator()"
      ]
     },
     "execution_count": 9,
     "metadata": {},
     "output_type": "execute_result"
    }
   ],
   "source": [
    "#Slider to filter based on no of injured people\n",
    "st.header(\"Where are the most people injured in NYC?\")\n",
    "injured_people = st.slider(\"Number of persons injured in vehicle collisions\", 0, 19)\n",
    "st.map(data.query(\"number_of_persons_injured >= @injured_people\")[[\"latitude\", \"longitude\"]].dropna(how=\"any\"))\n",
    "\n",
    "#slider to filter based on time\n",
    "st.header(\"How many collisions occur during a given time of day?\")\n",
    "hour = st.slider(\"Hour to look at\", 0, 23)\n",
    "original_data = data\n",
    "data = data[data['accident date_accident time'].dt.hour == hour]\n",
    "st.markdown(\"Vehicle collisions between %i:00 and %i:00\" % (hour, (hour + 1) % 24))"
   ]
  },
  {
   "cell_type": "code",
   "execution_count": null,
   "metadata": {},
   "outputs": [],
   "source": [
    "#Showing 3D Map and chart\n",
    "midpoint = (np.average(data[\"latitude\"]), np.average(data[\"longitude\"]))\n",
    "st.write(pdk.Deck(\n",
    "    map_style=\"mapbox://styles/mapbox/light-v9\",\n",
    "    initial_view_state={\n",
    "        \"latitude\": midpoint[0],\n",
    "        \"longitude\": midpoint[1],\n",
    "        \"zoom\": 11,\n",
    "        \"pitch\": 50,\n",
    "    },\n",
    "    layers=[\n",
    "        pdk.Layer(\n",
    "        \"HexagonLayer\",\n",
    "        data=data[['accident date_accident time', 'latitude', 'longitude']],\n",
    "        get_position=[\"longitude\", \"latitude\"],\n",
    "        auto_highlight=True,\n",
    "        radius=100,\n",
    "        extruded=True,\n",
    "        pickable=True,\n",
    "        elevation_scale=4,\n",
    "        elevation_range=[0, 1000],\n",
    "        ),\n",
    "    ],\n",
    "))"
   ]
  },
  {
   "cell_type": "code",
   "execution_count": null,
   "metadata": {},
   "outputs": [],
   "source": [
    "#Showing Histogram based on time\n",
    "st.subheader(\"Breakdown by minute between %i:00 and %i:00\" % (hour, (hour + 1) % 24))\n",
    "filtered = data[\n",
    "    (data['accident date_accident time'].dt.hour >= hour) & (data['accident date_accident time'].dt.hour < (hour + 1))\n",
    "]\n",
    "hist = np.histogram(filtered['accident date_accident time'].dt.minute, bins=60, range=(0, 60))[0]\n",
    "chart_data = pd.DataFrame({\"minute\": range(60), \"crashes\": hist})\n",
    "\n",
    "fig = px.bar(chart_data, x='minute', y='crashes', hover_data=['minute', 'crashes'], height=400)\n",
    "st.write(fig)"
   ]
  },
  {
   "cell_type": "code",
   "execution_count": null,
   "metadata": {},
   "outputs": [
    {
     "data": {
      "text/plain": [
       "DeltaGenerator()"
      ]
     },
     "execution_count": 12,
     "metadata": {},
     "output_type": "execute_result"
    }
   ],
   "source": [
    "#Slider to filter based on no of injured pedestrians\n",
    "st.header(\"Where are the most pedestrians injured in NYC?\")\n",
    "injured_pedestrians = st.slider(\"Number of pedestrians injured\", 0, 19)\n",
    "st.map(data.query(\"number_of_pedestrians_injured >= @injured_pedestrians\")[[\"latitude\", \"longitude\"]].dropna(how=\"any\"))"
   ]
  },
  {
   "cell_type": "code",
   "execution_count": null,
   "metadata": {},
   "outputs": [
    {
     "data": {
      "text/plain": [
       "DeltaGenerator()"
      ]
     },
     "execution_count": 13,
     "metadata": {},
     "output_type": "execute_result"
    }
   ],
   "source": [
    "#Slider to filter based on no of injured cyclists\n",
    "st.header(\"Where are the most cyclists injured in NYC?\")\n",
    "injured_cyclists = st.slider(\"Number of cyclists injured\", 0, 19)\n",
    "st.map(data.query(\"number_of_cyclists_injured >= @injured_cyclists\")[[\"latitude\", \"longitude\"]].dropna(how=\"any\"))"
   ]
  },
  {
   "cell_type": "code",
   "execution_count": null,
   "metadata": {},
   "outputs": [
    {
     "data": {
      "text/plain": [
       "DeltaGenerator()"
      ]
     },
     "execution_count": 14,
     "metadata": {},
     "output_type": "execute_result"
    }
   ],
   "source": [
    "#Slider to filter based on no of injured motorists\n",
    "st.header(\"Where are the most motorists injured in NYC?\")\n",
    "injured_motorists = st.slider(\"Number of motorists injured\", 0, 19)\n",
    "st.map(data.query(\"number_of_motorists_injured >= @injured_motorists\")[[\"latitude\", \"longitude\"]].dropna(how=\"any\"))"
   ]
  },
  {
   "cell_type": "code",
   "execution_count": null,
   "metadata": {},
   "outputs": [
    {
     "data": {
      "text/plain": [
       "Index(['accident date_accident time', 'borough', 'zip code', 'latitude',\n",
       "       'longitude', 'location', 'on_street_name', 'cross street name',\n",
       "       'off street name', 'number_of_persons_injured',\n",
       "       'number of persons killed', 'number_of_pedestrians_injured',\n",
       "       'number of pedestrians killed', 'number_of_cyclists_injured',\n",
       "       'number of cyclist killed', 'number_of_motorists_injured',\n",
       "       'number of motorist killed', 'contributing factor vehicle 1',\n",
       "       'contributing factor vehicle 2', 'contributing factor vehicle 3',\n",
       "       'contributing factor vehicle 4', 'contributing factor vehicle 5',\n",
       "       'collision_id', 'vehicle type code 1', 'vehicle type code 2',\n",
       "       'vehicle type code 3', 'vehicle type code 4', 'vehicle type code 5'],\n",
       "      dtype='object')"
      ]
     },
     "execution_count": 15,
     "metadata": {},
     "output_type": "execute_result"
    }
   ],
   "source": [
    "original_data.columns"
   ]
  },
  {
   "cell_type": "code",
   "execution_count": null,
   "metadata": {},
   "outputs": [],
   "source": [
    "st.write(original_data.columns)\n"
   ]
  },
  {
   "cell_type": "code",
   "execution_count": null,
   "metadata": {},
   "outputs": [],
   "source": [
    "st.write(original_data.head())\n"
   ]
  },
  {
   "cell_type": "code",
   "execution_count": null,
   "metadata": {},
   "outputs": [],
   "source": [
    "#Showing Top 5 Dangerous streets by filtering\n",
    "# Sidebar with user input\n",
    "st.sidebar.header(\"Select Affected Class\")\n",
    "select = st.sidebar.selectbox(\"Affected class\", [\"Pedestrians\", \"Cyclists\", \"Motorists\"])\n",
    "\n",
    "# Filter and display top 5 dangerous streets\n",
    "st.title(\"Top 5 Dangerous Streets by Affected Class\")\n",
    "if select == \"Pedestrians\":\n",
    "    column_name = \"number_of_pedestrians_injured\"\n",
    "elif select == \"Cyclists\":\n",
    "    column_name = \"number_of_cyclists_injured\"\n",
    "else:\n",
    "    column_name = \"number_of_motorists_injured\"\n",
    "\n",
    "# Filter the data based on the selected class and injury count\n",
    "filtered_data = original_data[original_data[column_name] >= 1]\n",
    "\n",
    "# Sort the data by the injury count in descending order and get the top 5\n",
    "sorted_data = filtered_data.sort_values(by=[column_name], ascending=False).head(5)\n",
    "\n",
    "# Display the results in a table\n",
    "st.write(sorted_data[[\"on_street_name\", column_name]])"
   ]
  },
  {
   "cell_type": "code",
   "execution_count": null,
   "metadata": {},
   "outputs": [],
   "source": [
    "#Checkbox to show raw table data\n",
    "if st.checkbox(\"Show raw data\", False):\n",
    "    st.subheader(\"Raw data by minute between %i:00 and %i:00\" % (hour, (hour + 1) % 24))\n",
    "    st.write(data)"
   ]
  },
  {
   "cell_type": "code",
   "execution_count": null,
   "metadata": {},
   "outputs": [],
   "source": []
  },
  {
   "cell_type": "code",
   "execution_count": null,
   "metadata": {},
   "outputs": [],
   "source": []
  }
 ],
 "metadata": {
  "kernelspec": {
   "display_name": "Python 3",
   "language": "python",
   "name": "python3"
  },
  "language_info": {
   "codemirror_mode": {
    "name": "ipython",
    "version": 3
   },
   "file_extension": ".py",
   "mimetype": "text/x-python",
   "name": "python",
   "nbconvert_exporter": "python",
   "pygments_lexer": "ipython3",
   "version": "3.11.5"
  },
  "orig_nbformat": 4
 },
 "nbformat": 4,
 "nbformat_minor": 2
}
